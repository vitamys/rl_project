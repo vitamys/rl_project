{
 "cells": [
  {
   "cell_type": "code",
   "execution_count": null,
   "metadata": {},
   "outputs": [],
   "source": [
    "import simglucose\n",
    "import gymnasium as gym\n",
    "from collections import namedtuple, deque\n",
    "import random"
   ]
  },
  {
   "cell_type": "code",
   "execution_count": null,
   "metadata": {},
   "outputs": [],
   "source": [
    "Transition = namedtuple('Transition',\n",
    "                        ('state', 'action', 'next_state', 'reward', 'h_0', 'c_0', 'h_0_next', 'c_0_next'))\n",
    "\n",
    "\n",
    "class ReplayMemory(object):\n",
    "\n",
    "    def __init__(self, capacity):\n",
    "        self.memory = deque([],maxlen=capacity)\n",
    "\n",
    "    def push(self, *args):\n",
    "        \"\"\"Save a transition\"\"\"\n",
    "        self.memory.append(Transition(*args))\n",
    "\n",
    "    def sample(self, batch_size):\n",
    "        return random.sample(self.memory, batch_size)\n",
    "\n",
    "    def __len__(self):\n",
    "        return len(self.memory)"
   ]
  },
  {
   "cell_type": "code",
   "execution_count": null,
   "metadata": {},
   "outputs": [],
   "source": [
    "\n",
    "from gymnasium.wrappers import FlattenObservation\n",
    "\n",
    "\n",
    "def paper_reward_function(BG_last_hour):\n",
    "    G = BG_last_hour[-1]\n",
    "    if G >= 70 and G <= 180:\n",
    "        return 0.5\n",
    "    if G > 180 and G <= 200:\n",
    "        return -0.9\n",
    "    if G > 200 and G <= 250:\n",
    "        return -1.2\n",
    "    if G > 250 and G <= 350:\n",
    "        return -1.5\n",
    "    if G > 30 and G < 70:\n",
    "        return -1.8\n",
    "    else:\n",
    "        return -2\n",
    "\n",
    "gym.envs.register(\n",
    "    id=\"simglucose-basal\",\n",
    "    entry_point=\"simglucose.envs:T1DSimEnvBolus\",\n",
    "    kwargs={\n",
    "        \"patient_name\": [\"adult#001\"],\n",
    "        \"reward_fun\": paper_reward_function,\n",
    "        \"history_length\": 1,\n",
    "        \"enable_meal\": True,\n",
    "    },\n",
    ")\n",
    "\n",
    "\n"
   ]
  },
  {
   "cell_type": "code",
   "execution_count": null,
   "metadata": {},
   "outputs": [],
   "source": [
    "\n",
    "def create_env():\n",
    "\n",
    "    env = gym.make(\"simglucose-basal\")\n",
    "\n",
    "    env = FlattenObservation(env)\n",
    "\n",
    "    return env\n",
    "\n",
    "\n",
    "\n",
    "env = create_env()\n",
    "\n",
    "\n",
    "print(env.action_space)\n",
    "print(env.observation_space)\n",
    "\n",
    "# random action\n",
    "env.reset()\n",
    "for _ in range(100):\n",
    "    env.step(env.action_space.sample())  # take a random action\n"
   ]
  }
 ],
 "metadata": {
  "kernelspec": {
   "display_name": "rl_project",
   "language": "python",
   "name": "python3"
  },
  "language_info": {
   "codemirror_mode": {
    "name": "ipython",
    "version": 3
   },
   "file_extension": ".py",
   "mimetype": "text/x-python",
   "name": "python",
   "nbconvert_exporter": "python",
   "pygments_lexer": "ipython3",
   "version": "3.11.7"
  }
 },
 "nbformat": 4,
 "nbformat_minor": 2
}
