{
 "cells": [
  {
   "cell_type": "code",
   "execution_count": 1,
   "metadata": {},
   "outputs": [],
   "source": [
    "import simglucose\n",
    "import gymnasium as gym\n",
    "from collections import namedtuple, deque\n",
    "import random"
   ]
  },
  {
   "cell_type": "code",
   "execution_count": 2,
   "metadata": {},
   "outputs": [],
   "source": [
    "Transition = namedtuple('Transition',\n",
    "                        ('state', 'action', 'next_state', 'reward', 'h_0', 'c_0', 'h_0_next', 'c_0_next'))\n",
    "\n",
    "\n",
    "class ReplayMemory(object):\n",
    "\n",
    "    def __init__(self, capacity):\n",
    "        self.memory = deque([],maxlen=capacity)\n",
    "\n",
    "    def push(self, *args):\n",
    "        \"\"\"Save a transition\"\"\"\n",
    "        self.memory.append(Transition(*args))\n",
    "\n",
    "    def sample(self, batch_size):\n",
    "        return random.sample(self.memory, batch_size)\n",
    "\n",
    "    def __len__(self):\n",
    "        return len(self.memory)"
   ]
  },
  {
   "cell_type": "code",
   "execution_count": 3,
   "metadata": {},
   "outputs": [],
   "source": [
    "\n",
    "from gymnasium.wrappers import FlattenObservation\n",
    "\n",
    "\n",
    "def paper_reward_function(BG_last_hour):\n",
    "    G = BG_last_hour[-1]\n",
    "    if G >= 70 and G <= 180:\n",
    "        return 0.5\n",
    "    if G > 180 and G <= 200:\n",
    "        return -0.9\n",
    "    if G > 200 and G <= 250:\n",
    "        return -1.2\n",
    "    if G > 250 and G <= 350:\n",
    "        return -1.5\n",
    "    if G > 30 and G < 70:\n",
    "        return -1.8\n",
    "    else:\n",
    "        return -2\n",
    "\n",
    "gym.envs.register(\n",
    "    id=\"simglucose-basal\",\n",
    "    entry_point=\"simglucose.envs:T1DSimEnvBolus\",\n",
    "    kwargs={\n",
    "        \"patient_name\": [\"adult#001\"],\n",
    "        \"reward_fun\": paper_reward_function,\n",
    "        \"history_length\": 1,\n",
    "        \"enable_meal\": True,\n",
    "    },\n",
    ")\n",
    "\n",
    "\n"
   ]
  },
  {
   "cell_type": "code",
   "execution_count": 4,
   "metadata": {},
   "outputs": [
    {
     "name": "stdout",
     "output_type": "stream",
     "text": [
      "Discrete(7)\n",
      "Box(0.0, 10000.0, (3,), float32)\n"
     ]
    }
   ],
   "source": [
    "\n",
    "def create_env():\n",
    "\n",
    "    env = gym.make(\"simglucose-basal\")\n",
    "\n",
    "    env = FlattenObservation(env)\n",
    "\n",
    "    return env\n",
    "\n",
    "\n",
    "\n",
    "env = create_env()\n",
    "\n",
    "\n",
    "print(env.action_space)\n",
    "print(env.observation_space)\n",
    "\n",
    "# random action\n",
    "env.reset()\n",
    "for _ in range(100):\n",
    "    env.step(env.action_space.sample())  # take a random action\n"
   ]
  },
  {
   "cell_type": "markdown",
   "metadata": {},
   "source": [
    "### Train the network?"
   ]
  },
  {
   "cell_type": "code",
   "execution_count": 20,
   "metadata": {},
   "outputs": [],
   "source": [
    "import torch\n",
    "import torch.nn as nn\n",
    "import torch.optim as optim\n",
    "import torch.nn.functional as F\n",
    "import random\n",
    "from collections import deque"
   ]
  },
  {
   "cell_type": "code",
   "execution_count": 13,
   "metadata": {},
   "outputs": [],
   "source": [
    "class QNetwork(nn.Module):\n",
    "    def __init__(self, input_size, output_size):\n",
    "        super(QNetwork, self).__init__()\n",
    "        # Define your neural network architecture\n",
    "        self.fc = nn.Linear(input_size, output_size)\n",
    "\n",
    "    def forward(self, x):\n",
    "        return self.fc(x)"
   ]
  },
  {
   "cell_type": "code",
   "execution_count": 88,
   "metadata": {},
   "outputs": [],
   "source": [
    "class DQNAgent:\n",
    "    def __init__(self, input_size, output_size, gamma=0.99, learning_rate=0.001, buffer_size=10000, batch_size=32):\n",
    "        self.gamma = gamma\n",
    "        self.device = torch.device(\"cuda\" if torch.cuda.is_available() else \"cpu\")\n",
    "\n",
    "        # Q-networks\n",
    "        self.q_network = QNetwork(input_size, output_size).to(self.device)\n",
    "        self.target_q_network = QNetwork(input_size, output_size).to(self.device)\n",
    "        self.target_q_network.load_state_dict(self.q_network.state_dict())\n",
    "\n",
    "        # Optimizer\n",
    "        self.optimizer = torch.optim.Adam(self.q_network.parameters(), lr=learning_rate)\n",
    "\n",
    "        # Experience replay buffer\n",
    "        self.buffer_size = buffer_size\n",
    "        self.batch_size = batch_size\n",
    "        self.replay_buffer = deque(maxlen=buffer_size)\n",
    "\n",
    "    def select_action(self, state):\n",
    "        alpha_index = env.action_space.sample()\n",
    "        return alpha_index\n",
    "\n",
    "    def store_transition(self, state, action, reward, next_state, done):\n",
    "        transition = (state, action, reward, next_state, done)\n",
    "        self.replay_buffer.append(transition)\n",
    "\n",
    "    def sample_batch(self):\n",
    "        batch = random.sample(self.replay_buffer, min(len(self.replay_buffer), self.batch_size))\n",
    "        states, actions, rewards, next_states, dones = zip(*batch)\n",
    "        \n",
    "        # Convert to tensors and handle dimensions\n",
    "        states = torch.stack(states)\n",
    "        actions = torch.LongTensor(actions).unsqueeze(1)  \n",
    "        rewards = torch.FloatTensor(rewards).unsqueeze(1)  \n",
    "        next_states = torch.stack(next_states)\n",
    "        dones = torch.FloatTensor(dones).unsqueeze(1) \n",
    "\n",
    "        return states, actions, rewards, next_states, dones\n",
    "\n",
    "    def update_q_network(self):\n",
    "        if len(self.replay_buffer) < self.batch_size:\n",
    "            return\n",
    "\n",
    "        states, actions, rewards, next_states, dones = self.sample_batch()\n",
    "\n",
    "        # Compute Q-values\n",
    "        q_values = self.q_network(states).gather(1, actions.unsqueeze(1))\n",
    "\n",
    "        # Compute target Q-values using the target network\n",
    "        target_q_values = rewards + (1 - dones) * self.gamma * self.target_q_network(next_states).max(1)[0].detach()\n",
    "\n",
    "        # Compute the Huber loss\n",
    "        loss = F.smooth_l1_loss(q_values, target_q_values.unsqueeze(1))\n",
    "\n",
    "        # Update the Q-network\n",
    "        self.optimizer.zero_grad()\n",
    "        loss.backward()\n",
    "        self.optimizer.step()\n",
    "\n",
    "    def update_target_q_network(self):\n",
    "        # Update the target network by copying the Q-network parameters\n",
    "        self.target_q_network.load_state_dict(self.q_network.state_dict())\n",
    "\n",
    "    def train_step(self, state, action, reward, next_state, done):\n",
    "        # Store the transition in the replay buffer\n",
    "        self.store_transition(state, action, reward, next_state, done)\n",
    "\n",
    "        # Update the Q-network\n",
    "        self.update_q_network()\n",
    "\n",
    "        # Update the target Q-network periodically\n",
    "        if len(self.replay_buffer) % 100 == 0:\n",
    "            self.update_target_q_network()"
   ]
  },
  {
   "cell_type": "code",
   "execution_count": 89,
   "metadata": {},
   "outputs": [
    {
     "name": "stderr",
     "output_type": "stream",
     "text": [
      "/opt/anaconda3/lib/python3.9/site-packages/gymnasium/envs/registration.py:694: UserWarning: \u001b[33mWARN: Overriding environment simglucose-basal already in registry.\u001b[0m\n",
      "  logger.warn(f\"Overriding environment {new_spec.id} already in registry.\")\n"
     ]
    }
   ],
   "source": [
    "def paper_reward_function(BG_last_hour):\n",
    "    G = BG_last_hour[-1]\n",
    "    if G >= 70 and G <= 180:\n",
    "        return 0.5\n",
    "    if G > 180 and G <= 200:\n",
    "        return -0.9\n",
    "    if G > 200 and G <= 250:\n",
    "        return -1.2\n",
    "    if G > 250 and G <= 350:\n",
    "        return -1.5\n",
    "    if G > 30 and G < 70:\n",
    "        return -1.8\n",
    "    else:\n",
    "        return -2\n",
    "\n",
    "gym.envs.register(\n",
    "    id=\"simglucose-basal\",\n",
    "    entry_point=\"simglucose.envs:T1DSimEnvBolus\",\n",
    "    kwargs={\n",
    "        \"patient_name\": [\"adult#001\"],\n",
    "        \"reward_fun\": paper_reward_function,\n",
    "        \"history_length\": 1,\n",
    "        \"enable_meal\": True,\n",
    "    },\n",
    ")\n",
    "\n",
    "def create_env():\n",
    "\n",
    "    env = gym.make(\"simglucose-basal\")\n",
    "\n",
    "    env = FlattenObservation(env)\n",
    "\n",
    "    return env\n",
    "\n",
    "\n",
    "\n",
    "env = create_env()"
   ]
  },
  {
   "cell_type": "code",
   "execution_count": 90,
   "metadata": {},
   "outputs": [
    {
     "name": "stdout",
     "output_type": "stream",
     "text": [
      "state_size 3\n",
      "action_size 7\n"
     ]
    }
   ],
   "source": [
    "# DDQ Agent setup\n",
    "state_size = env.observation_space.shape[0]\n",
    "action_size = env.action_space.n\n",
    "print('state_size', state_size)\n",
    "print('action_size', action_size)\n",
    "agent = DQNAgent(input_size=state_size, output_size=action_size)"
   ]
  },
  {
   "cell_type": "code",
   "execution_count": 98,
   "metadata": {},
   "outputs": [
    {
     "ename": "ValueError",
     "evalue": "expected sequence of length 3 at dim 1 (got 4)",
     "output_type": "error",
     "traceback": [
      "\u001b[0;31m---------------------------------------------------------------------------\u001b[0m",
      "\u001b[0;31mValueError\u001b[0m                                Traceback (most recent call last)",
      "\u001b[0;32m/var/folders/67/4hzyj9mj1p564dz8yb23qgbm0000gn/T/ipykernel_60217/4116690448.py\u001b[0m in \u001b[0;36m<module>\u001b[0;34m\u001b[0m\n\u001b[1;32m     12\u001b[0m \u001b[0;34m\u001b[0m\u001b[0m\n\u001b[1;32m     13\u001b[0m         \u001b[0;31m# Store the transition and perform a training step\u001b[0m\u001b[0;34m\u001b[0m\u001b[0;34m\u001b[0m\u001b[0m\n\u001b[0;32m---> 14\u001b[0;31m         \u001b[0mstate_obs\u001b[0m \u001b[0;34m=\u001b[0m \u001b[0mtorch\u001b[0m\u001b[0;34m.\u001b[0m\u001b[0mTensor\u001b[0m\u001b[0;34m(\u001b[0m\u001b[0mstate\u001b[0m\u001b[0;34m)\u001b[0m\u001b[0;34m\u001b[0m\u001b[0;34m\u001b[0m\u001b[0m\n\u001b[0m\u001b[1;32m     15\u001b[0m         \u001b[0magent\u001b[0m\u001b[0;34m.\u001b[0m\u001b[0mtrain_step\u001b[0m\u001b[0;34m(\u001b[0m\u001b[0mstate_obs\u001b[0m\u001b[0;34m,\u001b[0m \u001b[0maction\u001b[0m\u001b[0;34m,\u001b[0m \u001b[0mreward\u001b[0m\u001b[0;34m,\u001b[0m \u001b[0mnext_state\u001b[0m\u001b[0;34m,\u001b[0m \u001b[0mdone\u001b[0m\u001b[0;34m)\u001b[0m\u001b[0;34m\u001b[0m\u001b[0;34m\u001b[0m\u001b[0m\n\u001b[1;32m     16\u001b[0m         \u001b[0mstate\u001b[0m \u001b[0;34m=\u001b[0m \u001b[0mnext_state\u001b[0m\u001b[0;34m\u001b[0m\u001b[0;34m\u001b[0m\u001b[0m\n",
      "\u001b[0;31mValueError\u001b[0m: expected sequence of length 3 at dim 1 (got 4)"
     ]
    }
   ],
   "source": [
    "num_episodes = 100\n",
    "\n",
    "for episode in range(num_episodes):\n",
    "    state = env.reset() \n",
    "    total_reward = 0 \n",
    "\n",
    "    while True:\n",
    "        action = agent.select_action(state)\n",
    "\n",
    "        # Take the selected action in the environment\n",
    "        next_state, reward, done, _, _ = env.step(action)    \n",
    "\n",
    "        # Store the transition and perform a training step\n",
    "        # PROBLEM WITH TORCH TENSOR CONVERSIONS\n",
    "        agent.train_step(state_obs, action, reward, next_state, done)\n",
    "        state = next_state\n",
    "\n",
    "        # Accumulate the total reward\n",
    "        total_reward += reward\n",
    "\n",
    "        if done:\n",
    "            break  # End the episode if the environment signals that it's done\n",
    "\n",
    "    print(f\"Episode {episode + 1}, Total Reward: {total_reward}\")\n",
    "\n",
    "\n"
   ]
  },
  {
   "cell_type": "code",
   "execution_count": 97,
   "metadata": {},
   "outputs": [
    {
     "data": {
      "text/plain": [
       "tensor([154.8131,   0.0000,   0.0000])"
      ]
     },
     "execution_count": 97,
     "metadata": {},
     "output_type": "execute_result"
    }
   ],
   "source": [
    "state_obs"
   ]
  },
  {
   "cell_type": "code",
   "execution_count": null,
   "metadata": {},
   "outputs": [
    {
     "data": {
      "text/plain": [
       "tensor([145.4606,   0.0000,   0.0000])"
      ]
     },
     "execution_count": 79,
     "metadata": {},
     "output_type": "execute_result"
    }
   ],
   "source": [
    "state[0]"
   ]
  }
 ],
 "metadata": {
  "kernelspec": {
   "display_name": "rl_project",
   "language": "python",
   "name": "python3"
  },
  "language_info": {
   "codemirror_mode": {
    "name": "ipython",
    "version": 3
   },
   "file_extension": ".py",
   "mimetype": "text/x-python",
   "name": "python",
   "nbconvert_exporter": "python",
   "pygments_lexer": "ipython3",
   "version": "3.9.7"
  }
 },
 "nbformat": 4,
 "nbformat_minor": 2
}
